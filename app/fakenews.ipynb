{
 "cells": [
  {
   "cell_type": "code",
   "execution_count": 1,
   "metadata": {},
   "outputs": [],
   "source": [
    "import pandas as pd\n",
    "from sklearn.model_selection import train_test_split\n",
    "from sklearn.feature_extraction.text import TfidfVectorizer\n",
    "from sklearn.naive_bayes import MultinomialNB\n",
    "from sklearn.metrics import accuracy_score, confusion_matrix, classification_report\n",
    "from sklearn.pipeline import Pipeline\n",
    "from newspaper import Article\n",
    "import joblib"
   ]
  },
  {
   "cell_type": "code",
   "execution_count": 2,
   "metadata": {},
   "outputs": [],
   "source": [
    "# Baca Dataset\n",
    "fake = pd.read_csv('Fake.csv')\n",
    "true = pd.read_csv('True.csv')"
   ]
  },
  {
   "cell_type": "code",
   "execution_count": 3,
   "metadata": {},
   "outputs": [],
   "source": [
    "# Kasih label\n",
    "fake['label'] = 0 \n",
    "true['label'] = 1 "
   ]
  },
  {
   "cell_type": "code",
   "execution_count": 4,
   "metadata": {},
   "outputs": [],
   "source": [
    "df = pd.concat([true,fake]) # Gabung Dataset"
   ]
  },
  {
   "cell_type": "code",
   "execution_count": 5,
   "metadata": {},
   "outputs": [],
   "source": [
    "# Gabung title sama text, terus di lowercase\n",
    "df['titleandtext'] = df['title'] + ' ' + df['text']\n",
    "df['titleandtext'] = df['titleandtext'].apply(lambda x : x.lower())"
   ]
  },
  {
   "cell_type": "code",
   "execution_count": 6,
   "metadata": {},
   "outputs": [],
   "source": [
    "# Drop data duplicate, sama reset indexnya\n",
    "df = df.reset_index(drop = True)\n",
    "df = df.drop_duplicates()"
   ]
  },
  {
   "cell_type": "markdown",
   "metadata": {},
   "source": [
    "# Text"
   ]
  },
  {
   "cell_type": "code",
   "execution_count": 8,
   "metadata": {},
   "outputs": [
    {
     "name": "stdout",
     "output_type": "stream",
     "text": [
      "              precision    recall  f1-score   support\n",
      "\n",
      "           0       0.94      0.94      0.94      4724\n",
      "           1       0.93      0.94      0.93      4214\n",
      "\n",
      "    accuracy                           0.94      8938\n",
      "   macro avg       0.94      0.94      0.94      8938\n",
      "weighted avg       0.94      0.94      0.94      8938\n",
      "\n"
     ]
    }
   ],
   "source": [
    "# Select Feature and label\n",
    "x = df['titleandtext']\n",
    "y = df['label']\n",
    "\n",
    "# Train test split\n",
    "x_train,x_test,y_train,y_test=train_test_split(x,y, test_size=0.2, stratify=y, random_state = 42)\n",
    "\n",
    "#Tf idf\n",
    "\n",
    "# Create a classifier in pipeline\n",
    "news_classifier = Pipeline(steps=[\n",
    "                               ('vectoriddze',TfidfVectorizer(lowercase=False,stop_words='english')),\n",
    "                                 ('mnb',MultinomialNB())\n",
    "                                 ])\n",
    "\n",
    "news_classifier.fit(x_train,y_train)\n",
    "\n",
    "print(classification_report(news_classifier.predict(x_test),y_test)) # hasil"
   ]
  },
  {
   "cell_type": "code",
   "execution_count": 17,
   "metadata": {},
   "outputs": [
    {
     "data": {
      "text/plain": [
       "['model_fakenewsclassifier.pkl']"
      ]
     },
     "execution_count": 17,
     "metadata": {},
     "output_type": "execute_result"
    }
   ],
   "source": [
    "joblib.dump(news_classifier, 'model_fakenewsclassifier.pkl')"
   ]
  }
 ],
 "metadata": {
  "kernelspec": {
   "display_name": "Python 3.9.10 64-bit",
   "language": "python",
   "name": "python3"
  },
  "language_info": {
   "codemirror_mode": {
    "name": "ipython",
    "version": 3
   },
   "file_extension": ".py",
   "mimetype": "text/x-python",
   "name": "python",
   "nbconvert_exporter": "python",
   "pygments_lexer": "ipython3",
   "version": "3.9.10"
  },
  "orig_nbformat": 4,
  "vscode": {
   "interpreter": {
    "hash": "397704579725e15f5c7cb49fe5f0341eb7531c82d19f2c29d197e8b64ab5776b"
   }
  }
 },
 "nbformat": 4,
 "nbformat_minor": 2
}
